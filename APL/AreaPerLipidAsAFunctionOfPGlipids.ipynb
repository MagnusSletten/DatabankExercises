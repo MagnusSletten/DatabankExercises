{
 "cells": [
  {
   "cell_type": "markdown",
   "metadata": {},
   "source": [
    "# Initialize NMRlipids databank"
   ]
  },
  {
   "cell_type": "code",
   "execution_count": 62,
   "metadata": {},
   "outputs": [],
   "source": [
    "import os\n",
    "import sys\n",
    "import numpy as np\n",
    "import json\n",
    "import matplotlib.pyplot as plt\n",
    "import MDAnalysis\n",
    "import urllib.request\n",
    "import yaml\n",
    "\n",
    "sys.path.insert(1, '../../Databank/Scripts/BuildDatabank/')\n",
    "from databankLibrary import download_link, lipids_dict, databank\n",
    "\n",
    "path = '../../Databank/Data/Simulations/'\n",
    "db_data = databank(path)\n",
    "systems = db_data.get_systems()\n",
    "\n",
    "def CalcAreaPerMolecule(system):\n",
    "    APLpath = system['path'] + 'apl.json'\n",
    "    try:\n",
    "        f = open(APLpath)\n",
    "        APLdata = json.load(f)\n",
    "        sumAPL = 0\n",
    "        sumIND = 0\n",
    "        for i,j in APLdata.items():\n",
    "            sumAPL += j\n",
    "            sumIND += 1\n",
    "        APL = sumAPL/sumIND\n",
    "        return(APL)\n",
    "    except:\n",
    "        print('apl.json not found from' + system['path'])\n",
    "        \n",
    "def GetThickness(system):\n",
    "    ThicknessPath = system['path'] + 'thickness.json'\n",
    "    try:\n",
    "        f = open(ThicknessPath)\n",
    "        thickness = json.load(f)\n",
    "        return(thickness)\n",
    "    except:\n",
    "        pass\n",
    "        #print('thickness.json not found from' + system['path'])\n",
    "    \n",
    "    \n",
    "def GetFormFactorMin(system):\n",
    "    FormFactorPath = system['path'] + 'FormFactor.json'\n",
    "    #try:\n",
    "    f = open(FormFactorPath)\n",
    "    FormFactor = json.load(f)\n",
    "    FFarray = np.array(FormFactor)\n",
    "    #print(FFarray)\n",
    "    result = np.where(arr2D == np.amin(FFarray,axis=0))\n",
    "    print(np.amin(FFarray,axis=0))\n",
    "    #mymin = min([min(r[1]) for r in FormFactor])\n",
    "    #print(mymin)\n",
    "    #except:\n",
    "    #    pass"
   ]
  },
  {
   "cell_type": "markdown",
   "metadata": {},
   "source": [
    "# Create area per lipid data of mixtures containing MATRIX or ADDITIVE lipids, or both"
   ]
  },
  {
   "cell_type": "code",
   "execution_count": 10,
   "metadata": {},
   "outputs": [
    {
     "name": "stdout",
     "output_type": "stream",
     "text": [
      "mkdir: cannot create directory ‘./results/POPS_in_POPC/’: File exists\n",
      "/bin/bash: -c: line 0: syntax error near unexpected token `('\n",
      "/bin/bash: -c: line 0: `sort -n -k 1 ./results/POPS_in_POPC/T303.0K_CHARMM36 (center of mass removed independently for upper leaflet, lower leaflet and water+ions).dat -o ./results/POPS_in_POPC/T303.0K_CHARMM36 (center of mass removed independently for upper leaflet, lower leaflet and water+ions).dat'\n",
      "apl.json not found from../../Databank/Data/Simulations/8d8/5c6/8d85c662a53e14e285a3bcfb75c55f3fef35be4b/343a5f2b56bf580ab0e4fb5d444c2c947c825dd3/\n",
      "/bin/bash: -c: line 0: syntax error near unexpected token `('\n",
      "/bin/bash: -c: line 0: `sort -n -k 1 ./results/POPS_in_POPC/T310.0K_CHARMM36 (center of mass removed independently for upper leaflet, lower leaflet and water+ions).dat -o ./results/POPS_in_POPC/T310.0K_CHARMM36 (center of mass removed independently for upper leaflet, lower leaflet and water+ions).dat'\n",
      "sort: cannot read: ./results/POPS_in_POPC/T320.0K_CHARMM36: No such file or directory\n",
      "/bin/bash: -c: line 0: syntax error near unexpected token `('\n",
      "/bin/bash: -c: line 0: `sort -n -k 1 ./results/POPS_in_POPC/T310.0K_CHARMM36 (center of mass removed independently for upper leaflet, lower leaflet and water+ions).dat -o ./results/POPS_in_POPC/T310.0K_CHARMM36 (center of mass removed independently for upper leaflet, lower leaflet and water+ions).dat'\n"
     ]
    },
    {
     "data": {
      "image/png": "[encoded data removed]",
      "text/plain": [
       "<Figure size 432x288 with 1 Axes>"
      ]
     },
     "metadata": {
      "needs_background": "light"
     },
     "output_type": "display_data"
    }
   ],
   "source": [
    "MATRIX = 'POPC'\n",
    "ADDITIVE = 'POPS'\n",
    "\n",
    "ResultDir = './results/' + ADDITIVE + '_in_' + MATRIX + '/'\n",
    "!mkdir {ResultDir}\n",
    "!rm {ResultDir}/*\n",
    "\n",
    "apl_DICT = {}\n",
    "for system in systems:\n",
    "    \n",
    "    try:\n",
    "        NADDITIVE = np.sum(system['COMPOSITION'][ADDITIVE]['COUNT'])\n",
    "    except:\n",
    "        NADDITIVE = 0    \n",
    "    \n",
    "    try:\n",
    "        NMATRIX = np.sum(system['COMPOSITION'][MATRIX]['COUNT'])\n",
    "    except:\n",
    "        NMATRIX = 0\n",
    "    \n",
    "    NLIPIDS = 0\n",
    "    for molecule in system['COMPOSITION']:\n",
    "        if molecule in lipids_dict:\n",
    "            NLIPIDS += np.sum(system['COMPOSITION'][molecule]['COUNT'])\n",
    "    \n",
    "    if (NMATRIX + NADDITIVE) != NLIPIDS:\n",
    "        #print('skipped')\n",
    "        continue\n",
    "    \n",
    "    \n",
    "    APL = CalcAreaPerMolecule(system)\n",
    "    if not APL:\n",
    "        continue\n",
    "    \n",
    "    plt.plot(NADDITIVE / NLIPIDS, APL,'.')\n",
    "    \n",
    "    try:\n",
    "        CaConcentration = system['COMPOSITION']['CAL']['COUNT'] * 55.5 / system['COMPOSITION']['SOL']['COUNT']\n",
    "    except:\n",
    "        CaConcentration = 0\n",
    "    lipidsRATIO = 100*NADDITIVE / NLIPIDS\n",
    "    forcefield = system.get('FF')\n",
    "    temperature = system.get('TEMPERATURE')\n",
    "    DOI = system.get('DOI')\n",
    "    apl_DICT[lipidsRATIO,CaConcentration,forcefield,temperature,DOI] = APL\n",
    "   \n",
    "    OutFileName = ResultDir + 'T' + str(temperature) + 'K'\n",
    "\n",
    "    try:\n",
    "        NSOD = np.sum(system['COMPOSITION']['SOD']['COUNT'])\n",
    "    except:\n",
    "        NSOD = 0    \n",
    "        \n",
    "    try:\n",
    "        NCLA = np.sum(system['COMPOSITION']['CLA']['COUNT'])\n",
    "    except:\n",
    "        NCLA = 0    \n",
    "    \n",
    "    if NCLA > 0 and not 'DHMDMAB' in ADDITIVE:\n",
    "        #print('skipped')\n",
    "        continue\n",
    "        \n",
    "    if ('POPG' in ADDITIVE or 'POPS' in ADDITIVE) and NADDITIVE != NSOD:\n",
    "        #print('skipped')\n",
    "        continue\n",
    "    \n",
    "    try:\n",
    "        OutFileName = OutFileName + '_' + system['FF'] +'.dat'\n",
    "    except:\n",
    "        continue\n",
    "    #print(OutFileName)\n",
    "    \n",
    "    outfile=open(OutFileName,'a')\n",
    "    outfile.write(str(round(lipidsRATIO,3)) + \" \" + str(APL) + \" \" + str(system['DOI']))\n",
    "    outfile.write('\\n')\n",
    "    outfile.close()\n",
    "    !sort -n -k 1 {OutFileName} -o {OutFileName}"
   ]
  },
  {
   "cell_type": "markdown",
   "metadata": {},
   "source": [
    "# Plot area per lipid data of MATRIX and ADDITIVE mixtures "
   ]
  },
  {
   "cell_type": "code",
   "execution_count": 11,
   "metadata": {},
   "outputs": [
    {
     "data": {
      "text/plain": [
       "Text(0, 0.5, 'Area per molecule (nm)^2')"
      ]
     },
     "execution_count": 11,
     "metadata": {},
     "output_type": "execute_result"
    },
    {
     "data": {
      "image/png": "[encoded data removed]",
      "text/plain": [
       "<Figure size 432x288 with 1 Axes>"
      ]
     },
     "metadata": {
      "needs_background": "light"
     },
     "output_type": "display_data"
    }
   ],
   "source": [
    "for subdir, dirs, files in os.walk(ResultDir):\n",
    "    for filename in files:\n",
    "        filepath = subdir + os.sep + filename\n",
    "        if filepath.endswith(\".dat\"):\n",
    "            with open(filepath) as APLfile:\n",
    "                lines = APLfile.readlines()#[1:]\n",
    "                x = [float(line.split()[0]) for line in lines]\n",
    "                y = [float(line.split()[1]) for line in lines]\n",
    "                #print(filepath,x,y)\n",
    "                if len(set(x)) > 1:\n",
    "                    plt.plot(x,y,label = filename,marker='o')\n",
    "plt.legend(bbox_to_anchor=(1.05, 1),loc='best')\n",
    "plt.xlabel('Percentage of ' + ADDITIVE + ' in ' + MATRIX)\n",
    "plt.ylabel('Area per molecule (nm)^2')\n",
    "#plt.savefig('../Figs/aplTST.png', bbox_inches='tight')"
   ]
  },
  {
   "cell_type": "code",
   "execution_count": 45,
   "metadata": {},
   "outputs": [
    {
     "data": {
      "image/png": "[encoded data removed]",
      "text/plain": [
       "<Figure size 432x288 with 1 Axes>"
      ]
     },
     "metadata": {
      "needs_background": "light"
     },
     "output_type": "display_data"
    }
   ],
   "source": [
    "APL = []\n",
    "Thickness = []\n",
    "for system in systems:\n",
    "    APLvalue = CalcAreaPerMolecule(system)\n",
    "    ThicknessValue = GetThickness(system)\n",
    "    if APLvalue and ThicknessValue:\n",
    "        plt.plot(APLvalue,ThicknessValue,'.')\n",
    "    \n",
    "    #    APL.append(APLvalue)\n",
    "    #    Thickness.append(ThicknessValue)\n",
    "    #APLvsThickness.append([APL,thickness])\n",
    "#plt.plot(APL,Thickness)"
   ]
  },
  {
   "cell_type": "code",
   "execution_count": 63,
   "metadata": {},
   "outputs": [
    {
     "name": "stdout",
     "output_type": "stream",
     "text": [
      "[0.         0.02080384]\n",
      "[0.         0.00690989]\n",
      "[0.         0.07195513]\n",
      "[0.         0.24137319]\n",
      "[0.         0.02113083]\n",
      "[0.         0.01196657]\n",
      "[0.         0.02286513]\n",
      "[0.        0.0593916]\n",
      "[0.        0.0510754]\n",
      "[0.         0.02768796]\n",
      "[0.         0.00146886]\n",
      "[0.         0.03443324]\n",
      "[0.         0.02615082]\n",
      "[0.         0.04860769]\n",
      "[0.         0.01766696]\n",
      "[0.         0.09975101]\n",
      "[0.         0.01768156]\n",
      "[0.         0.13088756]\n",
      "[0.         0.02966544]\n",
      "[0.        0.0150559]\n",
      "[0.         0.03204618]\n",
      "[0.         0.02262617]\n",
      "[0.         0.03180194]\n",
      "[0.         0.01577612]\n",
      "[0.         0.01880889]\n",
      "[0.         0.00359024]\n",
      "[0.         0.05830585]\n"
     ]
    },
    {
     "ename": "FileNotFoundError",
     "evalue": "[Errno 2] No such file or directory: '../../Databank/Data/Simulations/7f6/fbc/7f6fbc9ec469b1d33d2ec93cccdd86768443988f/f7a6d748844cb56fec39dd0c2f27b9483a291114/FormFactor.json'",
     "output_type": "error",
     "traceback": [
      "\u001b[0;31m---------------------------------------------------------------------------\u001b[0m",
      "\u001b[0;31mFileNotFoundError\u001b[0m                         Traceback (most recent call last)",
      "\u001b[0;32m/tmp/ipykernel_4867/187848066.py\u001b[0m in \u001b[0;36m<module>\u001b[0;34m\u001b[0m\n\u001b[1;32m      1\u001b[0m \u001b[0;32mfor\u001b[0m \u001b[0msystem\u001b[0m \u001b[0;32min\u001b[0m \u001b[0msystems\u001b[0m\u001b[0;34m:\u001b[0m\u001b[0;34m\u001b[0m\u001b[0;34m\u001b[0m\u001b[0m\n\u001b[0;32m----> 2\u001b[0;31m     \u001b[0mGetFormFactorMin\u001b[0m\u001b[0;34m(\u001b[0m\u001b[0msystem\u001b[0m\u001b[0;34m)\u001b[0m\u001b[0;34m\u001b[0m\u001b[0;34m\u001b[0m\u001b[0m\n\u001b[0m",
      "\u001b[0;32m/tmp/ipykernel_4867/224716836.py\u001b[0m in \u001b[0;36mGetFormFactorMin\u001b[0;34m(system)\u001b[0m\n\u001b[1;32m     44\u001b[0m     \u001b[0mFormFactorPath\u001b[0m \u001b[0;34m=\u001b[0m \u001b[0msystem\u001b[0m\u001b[0;34m[\u001b[0m\u001b[0;34m'path'\u001b[0m\u001b[0;34m]\u001b[0m \u001b[0;34m+\u001b[0m \u001b[0;34m'FormFactor.json'\u001b[0m\u001b[0;34m\u001b[0m\u001b[0;34m\u001b[0m\u001b[0m\n\u001b[1;32m     45\u001b[0m     \u001b[0;31m#try:\u001b[0m\u001b[0;34m\u001b[0m\u001b[0;34m\u001b[0m\u001b[0;34m\u001b[0m\u001b[0m\n\u001b[0;32m---> 46\u001b[0;31m     \u001b[0mf\u001b[0m \u001b[0;34m=\u001b[0m \u001b[0mopen\u001b[0m\u001b[0;34m(\u001b[0m\u001b[0mFormFactorPath\u001b[0m\u001b[0;34m)\u001b[0m\u001b[0;34m\u001b[0m\u001b[0;34m\u001b[0m\u001b[0m\n\u001b[0m\u001b[1;32m     47\u001b[0m     \u001b[0mFormFactor\u001b[0m \u001b[0;34m=\u001b[0m \u001b[0mjson\u001b[0m\u001b[0;34m.\u001b[0m\u001b[0mload\u001b[0m\u001b[0;34m(\u001b[0m\u001b[0mf\u001b[0m\u001b[0;34m)\u001b[0m\u001b[0;34m\u001b[0m\u001b[0;34m\u001b[0m\u001b[0m\n\u001b[1;32m     48\u001b[0m     \u001b[0mFFarray\u001b[0m \u001b[0;34m=\u001b[0m \u001b[0mnp\u001b[0m\u001b[0;34m.\u001b[0m\u001b[0marray\u001b[0m\u001b[0;34m(\u001b[0m\u001b[0mFormFactor\u001b[0m\u001b[0;34m)\u001b[0m\u001b[0;34m\u001b[0m\u001b[0;34m\u001b[0m\u001b[0m\n",
      "\u001b[0;31mFileNotFoundError\u001b[0m: [Errno 2] No such file or directory: '../../Databank/Data/Simulations/7f6/fbc/7f6fbc9ec469b1d33d2ec93cccdd86768443988f/f7a6d748844cb56fec39dd0c2f27b9483a291114/FormFactor.json'"
     ]
    }
   ],
   "source": [
    "for system in systems:\n",
    "    GetFormFactorMin(system)"
   ]
  },
  {
   "cell_type": "code",
   "execution_count": 43,
   "metadata": {},
   "outputs": [
    {
     "name": "stdout",
     "output_type": "stream",
     "text": [
      "{'FF_DATE': '?/?/2020', 'TYPEOFSYSTEM': 'lipid bilayer', 'SYSTEM': 'POPC:POPG(4:1)_T298K_1MCaCl', 'TEMPERATURE': 298.0, 'NUMBER_OF_ATOMS': 134109, 'EXPERIMENT': {'POPG': {}, 'POPC': {}}, 'FF_SOURCE': 'NMRlipidsIV', 'COMPOSITION': {'POPG': {'NAME': 'PGR', 'COUNT': [44, 44], 'MAPPING': 'mappingPOPGlipid17ecc.txt'}, 'CLA': {'NAME': 'CL', 'COUNT': 950, 'MAPPING': 'mappingCLAecc.txt'}, 'CAL': {'NAME': 'CA', 'COUNT': 475, 'MAPPING': 'mappingCALecc.txt'}, 'SOD': {'NAME': 'NA', 'COUNT': 88, 'MAPPING': 'mappingSODecc.txt'}, 'POPC': {'NAME': 'PC', 'COUNT': [175, 175], 'MAPPING': 'mappingPOPClipid17ecc.txt'}, 'SOL': {'NAME': 'SOL', 'COUNT': 24840, 'MAPPING': 'mappingSPCwater.txt'}}, 'TIMELEFTOUT': 0, 'TRJLENGTH': 300020.0, 'DATEOFRUNNING': '04/10/2021', 'FF': 'lipid17ecc', 'SOFTWARE': 'gromacs', 'PREEQTIME': 100, 'DOI': '10.5281/zenodo.3997184', 'TRAJECTORY_SIZE': 7486025608, 'TPR': [['run_400ns.tpr']], 'TRJ': [['100-400ns.xtc']], 'DIR_WRK': '/media/osollila/Data/tmp/DATABANK/', 'path': '../../Databank/Data/Simulations/cfc/4c4/cfc4c4be95331177929f47a2f1c59f2792643901/112cf0742e84e4dbdd3598c8bcc6921f84378fb3/'}\n"
     ]
    }
   ],
   "source": [
    "for system in systems:\n",
    "    APLvalue = CalcAreaPerMolecule(system)\n",
    "    ThicknessValue = GetThickness(system)\n",
    "    if ThicknessValue and ThicknessValue < 4:\n",
    "        print(system)"
   ]
  },
  {
   "cell_type": "code",
   "execution_count": 41,
   "metadata": {},
   "outputs": [],
   "source": [
    "ThicknessValue"
   ]
  },
  {
   "cell_type": "code",
   "execution_count": null,
   "metadata": {},
   "outputs": [],
   "source": []
  }
 ],
 "metadata": {
  "kernelspec": {
   "display_name": "Python 3 (ipykernel)",
   "language": "python",
   "name": "python3"
  },
  "language_info": {
   "codemirror_mode": {
    "name": "ipython",
    "version": 3
   },
   "file_extension": ".py",
   "mimetype": "text/x-python",
   "name": "python",
   "nbconvert_exporter": "python",
   "pygments_lexer": "ipython3",
   "version": "3.9.4"
  }
 },
 "nbformat": 4,
 "nbformat_minor": 2
}
