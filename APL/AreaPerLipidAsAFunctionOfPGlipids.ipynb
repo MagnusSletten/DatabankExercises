{
 "cells": [
  {
   "cell_type": "markdown",
   "metadata": {},
   "source": [
    "# Initialize NMRlipids databank"
   ]
  },
  {
   "cell_type": "code",
   "execution_count": 2,
   "metadata": {},
   "outputs": [],
   "source": [
    "import os\n",
    "import sys\n",
    "import numpy as np\n",
    "import json\n",
    "import matplotlib.pyplot as plt\n",
    "import MDAnalysis\n",
    "import urllib.request\n",
    "import yaml\n",
    "\n",
    "sys.path.insert(1, '../../Databank/Scripts/BuildDatabank/')\n",
    "from databankLibrary import download_link, lipids_dict, databank\n",
    "\n",
    "path = '../../Databank/Data/Simulations/'\n",
    "db_data = databank(path)\n",
    "systems = db_data.get_systems()"
   ]
  },
  {
   "cell_type": "markdown",
   "metadata": {},
   "source": [
    "# Create area per lipid data of mixtures containing MATRIX or ADDITIVE lipids, or both"
   ]
  },
  {
   "cell_type": "code",
   "execution_count": 3,
   "metadata": {},
   "outputs": [
    {
     "name": "stdout",
     "output_type": "stream",
     "text": [
      "mkdir: cannot create directory ‘./results/POPS_in_POPC/’: File exists\n",
      "/bin/bash: -c: line 0: syntax error near unexpected token `('\n",
      "/bin/bash: -c: line 0: `sort -n -k 1 ./results/POPS_in_POPC/T303.0K_CHARMM36 (center of mass removed independently for upper leaflet, lower leaflet and water+ions).dat -o ./results/POPS_in_POPC/T303.0K_CHARMM36 (center of mass removed independently for upper leaflet, lower leaflet and water+ions).dat'\n",
      "/bin/bash: -c: line 0: syntax error near unexpected token `('\n",
      "/bin/bash: -c: line 0: `sort -n -k 1 ./results/POPS_in_POPC/T310.0K_CHARMM36 (center of mass removed independently for upper leaflet, lower leaflet and water+ions).dat -o ./results/POPS_in_POPC/T310.0K_CHARMM36 (center of mass removed independently for upper leaflet, lower leaflet and water+ions).dat'\n",
      "sort: cannot read: ./results/POPS_in_POPC/T320.0K_CHARMM36: No such file or directory\n",
      "/bin/bash: -c: line 0: syntax error near unexpected token `('\n",
      "/bin/bash: -c: line 0: `sort -n -k 1 ./results/POPS_in_POPC/T310.0K_CHARMM36 (center of mass removed independently for upper leaflet, lower leaflet and water+ions).dat -o ./results/POPS_in_POPC/T310.0K_CHARMM36 (center of mass removed independently for upper leaflet, lower leaflet and water+ions).dat'\n"
     ]
    },
    {
     "data": {
      "image/png": "[encoded data removed]",
      "text/plain": [
       "<Figure size 432x288 with 1 Axes>"
      ]
     },
     "metadata": {
      "needs_background": "light"
     },
     "output_type": "display_data"
    }
   ],
   "source": [
    "MATRIX = 'POPC'\n",
    "ADDITIVE = 'POPS'\n",
    "\n",
    "ResultDir = './results/' + ADDITIVE + '_in_' + MATRIX + '/'\n",
    "!mkdir {ResultDir}\n",
    "!rm {ResultDir}/*\n",
    "\n",
    "apl_DICT = {}\n",
    "for system in systems:\n",
    "    \n",
    "    try:\n",
    "        NADDITIVE = np.sum(system['COMPOSITION'][ADDITIVE]['COUNT'])\n",
    "    except:\n",
    "        NADDITIVE = 0    \n",
    "    \n",
    "    try:\n",
    "        NMATRIX = np.sum(system['COMPOSITION'][MATRIX]['COUNT'])\n",
    "    except:\n",
    "        NMATRIX = 0\n",
    "    \n",
    "    NLIPIDS = 0\n",
    "    for molecule in system['COMPOSITION']:\n",
    "        if molecule in lipids_dict:\n",
    "            NLIPIDS += np.sum(system['COMPOSITION'][molecule]['COUNT'])\n",
    "    \n",
    "    if (NMATRIX + NADDITIVE) != NLIPIDS:\n",
    "        #print('skipped')\n",
    "        continue\n",
    "    \n",
    "    \n",
    "    APLpath = system['path'] + 'apl.json'\n",
    "    try:\n",
    "        f = open(APLpath)\n",
    "        APLdata = json.load(f)\n",
    "    except:\n",
    "        print('apl.json not found from' + system['path'])\n",
    "        \n",
    "    sumAPL = 0\n",
    "    sumIND = 0\n",
    "    for i,j in APLdata.items():\n",
    "        sumAPL += j\n",
    "        sumIND += 1\n",
    "    APL = sumAPL/sumIND\n",
    "    \n",
    "    plt.plot(NADDITIVE / NLIPIDS, APL,'.')\n",
    "    \n",
    "    try:\n",
    "        CaConcentration = system['COMPOSITION']['CAL']['COUNT'] * 55.5 / system['COMPOSITION']['SOL']['COUNT']\n",
    "    except:\n",
    "        CaConcentration = 0\n",
    "    lipidsRATIO = 100*NADDITIVE / NLIPIDS\n",
    "    forcefield = system.get('FF')\n",
    "    temperature = system.get('TEMPERATURE')\n",
    "    DOI = system.get('DOI')\n",
    "    apl_DICT[lipidsRATIO,CaConcentration,forcefield,temperature,DOI] = APL\n",
    "   \n",
    "    OutFileName = ResultDir + 'T' + str(temperature) + 'K'\n",
    "\n",
    "    try:\n",
    "        NSOD = np.sum(system['COMPOSITION']['SOD']['COUNT'])\n",
    "    except:\n",
    "        NSOD = 0    \n",
    "        \n",
    "    try:\n",
    "        NCLA = np.sum(system['COMPOSITION']['CLA']['COUNT'])\n",
    "    except:\n",
    "        NCLA = 0    \n",
    "    \n",
    "    if NCLA > 0 and not 'DHMDMAB' in ADDITIVE:\n",
    "        #print('skipped')\n",
    "        continue\n",
    "        \n",
    "    if ('POPG' in ADDITIVE or 'POPS' in ADDITIVE) and NADDITIVE != NSOD:\n",
    "        #print('skipped')\n",
    "        continue\n",
    "    \n",
    "    try:\n",
    "        OutFileName = OutFileName + '_' + system['FF'] +'.dat'\n",
    "    except:\n",
    "        continue\n",
    "    #print(OutFileName)\n",
    "    \n",
    "    outfile=open(OutFileName,'a')\n",
    "    outfile.write(str(round(lipidsRATIO,3)) + \" \" + str(APL) + \" \" + str(system['DOI']))\n",
    "    outfile.write('\\n')\n",
    "    outfile.close()\n",
    "    !sort -n -k 1 {OutFileName} -o {OutFileName}"
   ]
  },
  {
   "cell_type": "markdown",
   "metadata": {},
   "source": [
    "# Plot area per lipid data of MATRIX and ADDITIVE mixtures "
   ]
  },
  {
   "cell_type": "code",
   "execution_count": 4,
   "metadata": {},
   "outputs": [
    {
     "data": {
      "text/plain": [
       "Text(0, 0.5, 'Area per molecule (nm)^2')"
      ]
     },
     "execution_count": 4,
     "metadata": {},
     "output_type": "execute_result"
    },
    {
     "data": {
      "image/png": "[encoded data removed]",
      "text/plain": [
       "<Figure size 432x288 with 1 Axes>"
      ]
     },
     "metadata": {
      "needs_background": "light"
     },
     "output_type": "display_data"
    }
   ],
   "source": [
    "for subdir, dirs, files in os.walk(ResultDir):\n",
    "    for filename in files:\n",
    "        filepath = subdir + os.sep + filename\n",
    "        if filepath.endswith(\".dat\"):\n",
    "            with open(filepath) as APLfile:\n",
    "                lines = APLfile.readlines()#[1:]\n",
    "                x = [float(line.split()[0]) for line in lines]\n",
    "                y = [float(line.split()[1]) for line in lines]\n",
    "                #print(filepath,x,y)\n",
    "                if len(set(x)) > 1:\n",
    "                    plt.plot(x,y,label = filename,marker='o')\n",
    "plt.legend(bbox_to_anchor=(1.05, 1),loc='best')\n",
    "plt.xlabel('Percentage of ' + ADDITIVE + ' in ' + MATRIX)\n",
    "plt.ylabel('Area per molecule (nm)^2')\n",
    "#plt.savefig('../Figs/aplTST.png', bbox_inches='tight')"
   ]
  },
  {
   "cell_type": "code",
   "execution_count": null,
   "metadata": {},
   "outputs": [],
   "source": [
    "for system in systems:\n",
    "    "
   ]
  }
 ],
 "metadata": {
  "kernelspec": {
   "display_name": "Python 3 (ipykernel)",
   "language": "python",
   "name": "python3"
  },
  "language_info": {
   "codemirror_mode": {
    "name": "ipython",
    "version": 3
   },
   "file_extension": ".py",
   "mimetype": "text/x-python",
   "name": "python",
   "nbconvert_exporter": "python",
   "pygments_lexer": "ipython3",
   "version": "3.9.7"
  }
 },
 "nbformat": 4,
 "nbformat_minor": 2
}
